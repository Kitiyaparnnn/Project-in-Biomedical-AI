{
 "cells": [
  {
   "cell_type": "code",
   "id": "9301cd61-3052-4c50-8f41-d0b96d451c2b",
   "metadata": {
    "ExecuteTime": {
     "end_time": "2025-04-18T18:23:40.769824Z",
     "start_time": "2025-04-18T18:23:40.765341Z"
    }
   },
   "source": [
    "import torch\n",
    "import torch.nn as nn\n",
    "import torch.optim as optim\n",
    "import matplotlib.pyplot as plt\n",
    "import torchvision.transforms as transforms\n",
    "from torch.utils.data import DataLoader, Dataset, random_split\n",
    "import torchvision.models as models\n",
    "import torch.nn.functional as F\n",
    "from PIL import Image\n",
    "import os\n",
    "import numpy as np\n",
    "import cv2\n",
    "from tqdm import tqdm\n",
    "\n",
    "\n",
    "from matplotlib.pyplot import imshow\n",
    "import math\n",
    "import json\n",
    "import re\n",
    "from scipy.ndimage import gaussian_filter1d, gaussian_filter\n",
    "\n",
    "from scipy.interpolate import griddata"
   ],
   "outputs": [],
   "execution_count": 52
  },
  {
   "cell_type": "code",
   "id": "855d46af-ac7d-4213-ac0d-4fcd740d1396",
   "metadata": {
    "ExecuteTime": {
     "end_time": "2025-04-18T18:23:40.843785Z",
     "start_time": "2025-04-18T18:23:40.822980Z"
    }
   },
   "source": [
    "def map_bscan_heatmaps_to_solid_circle(bscan_heatmaps, enface_image, pattern_type='foveal', \n",
    "                                      num_scans=None, smooth_factor=5, threshold=0.7, \n",
    "                                      center_radius_ratio=0.3):\n",
    "    \"\"\"\n",
    "    Map B-scan heatmaps onto an enface image, creating a solid circular pattern\n",
    "    \n",
    "    Args:\n",
    "        bscan_heatmaps: List of numpy arrays containing heatmaps from OCT B-scans\n",
    "        enface_image: Numpy array of the enface image\n",
    "        pattern_type: The scan pattern - 'foveal', 'raster', or 'radial'\n",
    "        num_scans: Number of B-scans (if None, uses len(bscan_heatmaps))\n",
    "        smooth_factor: Size of Gaussian kernel for final smoothing\n",
    "        threshold: Value (0-1) to threshold the heatmap\n",
    "        center_radius_ratio: Ratio of the image size to use for central circle mask\n",
    "        \n",
    "    Returns:\n",
    "        The enface image with overlaid solid circular heatmap\n",
    "    \"\"\"\n",
    "    # Make sure enface is RGB\n",
    "    if len(enface_image.shape) == 2:\n",
    "        enface_rgb = cv2.cvtColor(enface_image, cv2.COLOR_GRAY2RGB)\n",
    "    else:\n",
    "        enface_rgb = enface_image.copy()\n",
    "    \n",
    "    enface_rgb = enface_rgb.astype(np.uint8)\n",
    "    h, w = enface_rgb.shape[:2]\n",
    "    \n",
    "    # If num_scans not provided, use length of heatmaps\n",
    "    if num_scans is None:\n",
    "        num_scans = len(bscan_heatmaps)\n",
    "    \n",
    "    # Initialize points and values for interpolation\n",
    "    points = []\n",
    "    values = []\n",
    "    \n",
    "    # Generate scan coordinates based on pattern type\n",
    "    if pattern_type == 'foveal':\n",
    "        # Foveal scan pattern (all B-scans pass through center/fovea)\n",
    "        center_x, center_y = w // 2, h // 2\n",
    "        \n",
    "        # Distribute angles evenly\n",
    "        angles = np.linspace(0, np.pi, num_scans)  # 180 degrees coverage\n",
    "        \n",
    "        for i, angle in enumerate(angles):\n",
    "            if i >= len(bscan_heatmaps):\n",
    "                break\n",
    "                \n",
    "            heatmap = bscan_heatmaps[i]\n",
    "            \n",
    "            # Calculate line endpoints (line passing through center)\n",
    "            radius = min(w, h) // 2 - 5  # Slight margin from edge\n",
    "            \n",
    "            # Both ends of the line (passing through center)\n",
    "            x1 = int(center_x + radius * np.cos(angle))\n",
    "            y1 = int(center_y + radius * np.sin(angle))\n",
    "            x2 = int(center_x - radius * np.cos(angle))\n",
    "            y2 = int(center_y - radius * np.sin(angle))\n",
    "            \n",
    "            # Create the line\n",
    "            line_mask = np.zeros((h, w), dtype=np.uint8)\n",
    "            cv2.line(line_mask, (x1, y1), (x2, y2), 255, 1)\n",
    "            line_y, line_x = np.where(line_mask > 0)\n",
    "            \n",
    "            # Skip if no points\n",
    "            if len(line_x) == 0:\n",
    "                continue\n",
    "                \n",
    "            # Resize heatmap to match line length\n",
    "            num_points = len(line_x)\n",
    "            resized_heatmap = cv2.resize(heatmap, (1, num_points), interpolation=cv2.INTER_LINEAR)\n",
    "            \n",
    "            # Add points and values\n",
    "            for j, (x, y) in enumerate(zip(line_x, line_y)):\n",
    "                if resized_heatmap[j, 0] > 0.05:  # Threshold for computation efficiency\n",
    "                    points.append([x, y])\n",
    "                    values.append(float(resized_heatmap[j, 0]))\n",
    "    \n",
    "    # Create grid for interpolation\n",
    "    grid_x, grid_y = np.meshgrid(np.arange(w), np.arange(h))\n",
    "    \n",
    "    # Check if we have enough points for interpolation\n",
    "    if len(points) < 4:\n",
    "        print(\"Warning: Not enough points for interpolation. Check your heatmaps.\")\n",
    "        return enface_rgb\n",
    "    \n",
    "    # Convert to numpy arrays with explicit dtype\n",
    "    points = np.array(points, dtype=np.float32)\n",
    "    values = np.array(values, dtype=np.float32)\n",
    "    \n",
    "    # Interpolate values onto the grid\n",
    "    grid_z = griddata(points, values, (grid_x, grid_y), method='linear', fill_value=0)\n",
    "    grid_z = grid_z.astype(np.float32)\n",
    "    \n",
    "    # Smooth the result\n",
    "    if smooth_factor > 0:\n",
    "        grid_z = cv2.GaussianBlur(grid_z, (smooth_factor, smooth_factor), 0)\n",
    "    \n",
    "    # Normalize the heatmap\n",
    "    if grid_z.max() > 0:\n",
    "        grid_z = (grid_z - grid_z.min()) / (grid_z.max() - grid_z.min() + 1e-8)\n",
    "    \n",
    "    # Apply threshold to keep only bright regions\n",
    "    grid_z[grid_z < threshold] = 0\n",
    "    \n",
    "    # Create a circular mask for the center region\n",
    "    center_x, center_y = w // 2, h // 2\n",
    "    center_mask = np.zeros_like(grid_z)\n",
    "    radius = int(min(w, h) * center_radius_ratio)  # Adjust size of the circle\n",
    "    cv2.circle(center_mask, (center_x, center_y), radius, 1, -1)\n",
    "    \n",
    "    # Apply the mask to keep only the central region\n",
    "    grid_z = grid_z * center_mask\n",
    "    \n",
    "    # Convert to binary\n",
    "    binary = (grid_z > 0).astype(np.uint8)\n",
    "    \n",
    "    # Find connected components\n",
    "    num_labels, labels, stats, centroids = cv2.connectedComponentsWithStats(binary, connectivity=8)\n",
    "    \n",
    "    # Skip background (first component)\n",
    "    if num_labels > 1:\n",
    "        # Find component closest to center\n",
    "        closest_component = 0\n",
    "        min_dist = float('inf')\n",
    "        \n",
    "        for i in range(1, num_labels):\n",
    "            comp_center_x, comp_center_y = centroids[i]\n",
    "            dist = np.sqrt((comp_center_x - center_x)**2 + (comp_center_y - center_y)**2)\n",
    "            \n",
    "            if dist < min_dist:\n",
    "                min_dist = dist\n",
    "                closest_component = i\n",
    "        \n",
    "        # Create mask of only the central component\n",
    "        central_mask = (labels == closest_component).astype(np.uint8)\n",
    "        \n",
    "        # Fill holes in the mask using morphological operations\n",
    "        kernel = np.ones((5, 5), np.uint8)\n",
    "        \n",
    "        # Dilate to expand and fill small holes\n",
    "        central_mask_dilated = cv2.dilate(central_mask, kernel, iterations=2)\n",
    "        \n",
    "        # Get convex hull to create a more regular shape without concavities\n",
    "        contours, _ = cv2.findContours(central_mask_dilated, cv2.RETR_EXTERNAL, cv2.CHAIN_APPROX_SIMPLE)\n",
    "        \n",
    "        if len(contours) > 0:\n",
    "            # Find the largest contour\n",
    "            largest_contour = max(contours, key=cv2.contourArea)\n",
    "            \n",
    "            # Create a hull mask\n",
    "            hull_mask = np.zeros_like(central_mask)\n",
    "            hull = cv2.convexHull(largest_contour)\n",
    "            cv2.drawContours(hull_mask, [hull], -1, 1, -1)\n",
    "            \n",
    "            # Create a perfectly circular mask based on the hull mask\n",
    "            ellipse_mask = np.zeros_like(hull_mask)\n",
    "            \n",
    "            if hull.shape[0] >= 5:  # Need at least 5 points for ellipse fitting\n",
    "                ellipse = cv2.fitEllipse(hull)\n",
    "                cv2.ellipse(ellipse_mask, ellipse, 1, -1)\n",
    "                \n",
    "                # Use this mask for the final overlay\n",
    "                final_mask = ellipse_mask.astype(np.float32)\n",
    "            else:\n",
    "                # If we don't have enough points for ellipse, just use the hull\n",
    "                final_mask = hull_mask.astype(np.float32)\n",
    "        else:\n",
    "            # Fallback if no contours\n",
    "            final_mask = central_mask_dilated.astype(np.float32)\n",
    "        \n",
    "        # Apply this mask to our grid_z to create a more uniform pattern\n",
    "        grid_z = np.maximum(grid_z, final_mask * 0.7)  # Use 0.7 as a base intensity value\n",
    "    \n",
    "    # Apply colormap to create colored heatmap\n",
    "    heatmap_colored = cv2.applyColorMap(np.uint8(255 * grid_z), cv2.COLORMAP_HOT)\n",
    "    heatmap_colored = cv2.cvtColor(heatmap_colored, cv2.COLOR_BGR2RGB)\n",
    "    \n",
    "    # Create a mask for overlay (alpha channel)\n",
    "    alpha_mask = (grid_z > 0).astype(np.float32)\n",
    "    alpha_mask = cv2.GaussianBlur(alpha_mask, (5, 5), 0)  # Smooth the edges\n",
    "    \n",
    "    # Create result image\n",
    "    result = np.copy(enface_rgb).astype(np.float32)\n",
    "    \n",
    "    # Only blend where the mask is non-zero\n",
    "    for c in range(3):  # RGB channels\n",
    "        result[:,:,c] = enface_rgb[:,:,c] * (1 - alpha_mask) + heatmap_colored[:,:,c] * alpha_mask\n",
    "    \n",
    "    # Convert back to uint8 for display and saving\n",
    "    result = np.clip(result, 0, 255).astype(np.uint8)\n",
    "    \n",
    "    return result\n"
   ],
   "outputs": [],
   "execution_count": 53
  },
  {
   "cell_type": "code",
   "id": "1a4a3b08-d40d-4ccc-82bc-e763208c955f",
   "metadata": {
    "ExecuteTime": {
     "end_time": "2025-04-18T18:23:40.949228Z",
     "start_time": "2025-04-18T18:23:40.870187Z"
    }
   },
   "source": [
    "def process_enface_solid_heatmap(heatmap_dir, enface_path, output_path=None, \n",
    "                               pattern_type='foveal', smooth_factor=5, threshold=0.7,\n",
    "                               center_radius_ratio=0.3):\n",
    "    \"\"\"\n",
    "    Complete pipeline to map B-scan heatmaps to enface image, creating a solid circular pattern\n",
    "    \n",
    "    Args:\n",
    "        heatmap_dir: Directory containing heatmap images\n",
    "        enface_path: Path to the enface image\n",
    "        output_path: Path to save the result (optional)\n",
    "        pattern_type: Scan pattern type ('foveal', 'raster', 'radial')\n",
    "        smooth_factor: Size of Gaussian blur kernel for smoothing\n",
    "        threshold: Value (0-1) to threshold the heatmap\n",
    "        center_radius_ratio: Ratio of image size to use for central circle mask\n",
    "        \n",
    "    Returns:\n",
    "        The resulting enface image with overlaid solid circular heatmap pattern\n",
    "    \"\"\"\n",
    "    # Load heatmaps\n",
    "    heatmap_files = sorted([f for f in os.listdir(heatmap_dir) \n",
    "                          if f.endswith('.png') or f.endswith('.jpg')])\n",
    "    print(f\"Found {len(heatmap_files)} heatmaps in {heatmap_dir}\")\n",
    "    bscan_heatmaps = []\n",
    "    for heatmap_file in tqdm(heatmap_files, desc=\"Loading heatmaps\"):\n",
    "        path = os.path.join(heatmap_dir, heatmap_file)\n",
    "        heatmap = cv2.imread(path, cv2.IMREAD_GRAYSCALE)\n",
    "        \n",
    "        if heatmap is None:\n",
    "            print(f\"Warning: Could not load {path}\")\n",
    "            continue\n",
    "            \n",
    "        # Normalize\n",
    "        heatmap = heatmap.astype(np.float32) / 255.0\n",
    "        bscan_heatmaps.append(heatmap)\n",
    "    \n",
    "    print(f\"Loaded {len(bscan_heatmaps)} heatmap images\")\n",
    "    \n",
    "    if len(bscan_heatmaps) == 0:\n",
    "        print(\"No heatmaps found. Check your directory.\")\n",
    "        return None\n",
    "    \n",
    "    # Load enface image\n",
    "    enface_image = cv2.imread(enface_path)\n",
    "    if enface_image is None:\n",
    "        print(f\"Could not load enface image: {enface_path}\")\n",
    "        return None\n",
    "        \n",
    "    enface_image = cv2.cvtColor(enface_image, cv2.COLOR_BGR2RGB)\n",
    "    \n",
    "    # Map heatmaps to enface, creating a solid circular pattern\n",
    "    result = map_bscan_heatmaps_to_solid_circle(\n",
    "        bscan_heatmaps, \n",
    "        enface_image, \n",
    "        pattern_type=pattern_type, \n",
    "        smooth_factor=smooth_factor,\n",
    "        threshold=threshold,\n",
    "        center_radius_ratio=center_radius_ratio\n",
    "    )\n",
    "    \n",
    "    # Save if output path provided\n",
    "    if output_path:\n",
    "        # Create directory if it doesn't exist\n",
    "        output_dir = os.path.dirname(output_path)\n",
    "        if output_dir:  # Skip if it's just a filename with no directory\n",
    "            os.makedirs(output_dir, exist_ok=True)\n",
    "        \n",
    "        # Make sure the file has a valid extension\n",
    "        valid_extensions = ['.png', '.jpg', '.jpeg', '.tiff', '.bmp']\n",
    "        file_ext = os.path.splitext(output_path)[1].lower()\n",
    "        \n",
    "        if file_ext not in valid_extensions:\n",
    "            # Default to PNG if extension is invalid\n",
    "            output_path = output_path + '.png'\n",
    "            print(f\"Added .png extension to output path: {output_path}\")\n",
    "        \n",
    "        # Save the image (convert RGB to BGR for OpenCV)\n",
    "        cv2.imwrite(output_path, cv2.cvtColor(result, cv2.COLOR_RGB2BGR))\n",
    "        print(f\"Saved result to: {output_path}\")\n",
    "    \n",
    "    return result\n"
   ],
   "outputs": [],
   "execution_count": 54
  },
  {
   "metadata": {
    "ExecuteTime": {
     "end_time": "2025-04-18T18:23:41.048303Z",
     "start_time": "2025-04-18T18:23:40.959020Z"
    }
   },
   "cell_type": "code",
   "source": [
    "from pathlib import Path\n",
    "\n",
    "\n",
    "def list_folders(bscan_dir):\n",
    "    \"\"\"List all folders in the B-scan directory with error handling\"\"\"\n",
    "    bscan_path = Path(bscan_dir)\n",
    "    if not bscan_path.exists():\n",
    "        return f\"Error: Directory '{bscan_dir}' does not exist\"\n",
    "    if not bscan_path.is_dir():\n",
    "        return f\"Error: '{bscan_dir}' is not a directory\"\n",
    "    return [f.name for f in bscan_path.iterdir() if f.is_dir()]"
   ],
   "id": "8d2f8d7052a387f9",
   "outputs": [],
   "execution_count": 55
  },
  {
   "cell_type": "code",
   "id": "276189ab-1825-433d-8243-8d8c26640af8",
   "metadata": {
    "ExecuteTime": {
     "end_time": "2025-04-18T18:23:58.689811Z",
     "start_time": "2025-04-18T18:23:41.068332Z"
    }
   },
   "source": [
    "import glob\n",
    "\n",
    "# Example usage\n",
    "if __name__ == \"__main__\":\n",
    "    # Example configuration\n",
    "    heatmap_dir = \"img_masked_img\"  # Directory with your heatmap images\n",
    "    enface_path = \"BScan\"\n",
    "\n",
    "\n",
    "\n",
    "    folders = list_folders(heatmap_dir)\n",
    "\n",
    "    for folder in folders:\n",
    "        src_folder = os.path.join(heatmap_dir, folder)\n",
    "        dest_folder = os.path.join(src_folder, folder + \"_enface\")\n",
    "        folder_path = os.path.join(enface_path, folder)\n",
    "        jpg_files = glob.glob(os.path.join(folder_path, \"*.JPG\"))\n",
    "\n",
    "        if jpg_files:\n",
    "            enface_path_img = jpg_files[0]  # Get the first jpg file\n",
    "\n",
    "        print(src_folder)\n",
    "\n",
    "        files_to_remove = glob.glob(os.path.join(src_folder, \"heatmap_*\"))\n",
    "        for file_path in files_to_remove:\n",
    "            os.remove(file_path)\n",
    "        # Process with solid circular heatmap\n",
    "        result = process_enface_solid_heatmap(\n",
    "            heatmap_dir=src_folder,\n",
    "            enface_path=enface_path_img,\n",
    "            output_path=dest_folder,\n",
    "            pattern_type='foveal',\n",
    "            smooth_factor=7,\n",
    "            threshold=0.45,  # Adjust this value to control intensity threshold\n",
    "            center_radius_ratio=0.05  # Adjust to control the size of the central circle\n",
    "        )\n",
    "\n",
    "    \n",
    "    # # Display result\n",
    "    # plt.figure(figsize=(10, 10))\n",
    "    # plt.imshow(result)\n",
    "    # plt.axis('off')\n",
    "    # plt.title('Enface Image with Solid Circular Heatmap')\n",
    "    # plt.tight_layout()\n",
    "    # plt.show()"
   ],
   "outputs": [
    {
     "name": "stdout",
     "output_type": "stream",
     "text": [
      "img_masked_img/1003_right\n",
      "Found 21 heatmaps in img_masked_img/1003_right\n"
     ]
    },
    {
     "name": "stderr",
     "output_type": "stream",
     "text": [
      "Loading heatmaps: 100%|██████████| 21/21 [00:00<00:00, 114.35it/s]"
     ]
    },
    {
     "name": "stdout",
     "output_type": "stream",
     "text": [
      "Loaded 21 heatmap images\n"
     ]
    },
    {
     "name": "stderr",
     "output_type": "stream",
     "text": [
      "\n"
     ]
    },
    {
     "name": "stdout",
     "output_type": "stream",
     "text": [
      "Added .png extension to output path: img_masked_img/1003_right/1003_right_enface.png\n",
      "Saved result to: img_masked_img/1003_right/1003_right_enface.png\n",
      "img_masked_img/1025_right\n",
      "Found 23 heatmaps in img_masked_img/1025_right\n"
     ]
    },
    {
     "name": "stderr",
     "output_type": "stream",
     "text": [
      "Loading heatmaps: 100%|██████████| 23/23 [00:00<00:00, 112.29it/s]\n"
     ]
    },
    {
     "name": "stdout",
     "output_type": "stream",
     "text": [
      "Loaded 23 heatmap images\n",
      "Added .png extension to output path: img_masked_img/1025_right/1025_right_enface.png\n",
      "Saved result to: img_masked_img/1025_right/1025_right_enface.png\n",
      "img_masked_img/1007_left\n",
      "Found 14 heatmaps in img_masked_img/1007_left\n"
     ]
    },
    {
     "name": "stderr",
     "output_type": "stream",
     "text": [
      "Loading heatmaps: 100%|██████████| 14/14 [00:00<00:00, 111.11it/s]\n"
     ]
    },
    {
     "name": "stdout",
     "output_type": "stream",
     "text": [
      "Loaded 14 heatmap images\n",
      "Added .png extension to output path: img_masked_img/1007_left/1007_left_enface.png\n",
      "Saved result to: img_masked_img/1007_left/1007_left_enface.png\n",
      "img_masked_img/1019_left\n",
      "Found 32 heatmaps in img_masked_img/1019_left\n"
     ]
    },
    {
     "name": "stderr",
     "output_type": "stream",
     "text": [
      "Loading heatmaps: 100%|██████████| 32/32 [00:00<00:00, 103.84it/s]\n"
     ]
    },
    {
     "name": "stdout",
     "output_type": "stream",
     "text": [
      "Loaded 32 heatmap images\n",
      "Added .png extension to output path: img_masked_img/1019_left/1019_left_enface.png\n",
      "Saved result to: img_masked_img/1019_left/1019_left_enface.png\n",
      "img_masked_img/1004_right\n",
      "Found 25 heatmaps in img_masked_img/1004_right\n"
     ]
    },
    {
     "name": "stderr",
     "output_type": "stream",
     "text": [
      "Loading heatmaps: 100%|██████████| 25/25 [00:00<00:00, 108.66it/s]\n"
     ]
    },
    {
     "name": "stdout",
     "output_type": "stream",
     "text": [
      "Loaded 25 heatmap images\n",
      "Added .png extension to output path: img_masked_img/1004_right/1004_right_enface.png\n",
      "Saved result to: img_masked_img/1004_right/1004_right_enface.png\n",
      "img_masked_img/1010_right\n",
      "Found 23 heatmaps in img_masked_img/1010_right\n"
     ]
    },
    {
     "name": "stderr",
     "output_type": "stream",
     "text": [
      "Loading heatmaps: 100%|██████████| 23/23 [00:00<00:00, 111.39it/s]\n"
     ]
    },
    {
     "name": "stdout",
     "output_type": "stream",
     "text": [
      "Loaded 23 heatmap images\n",
      "Added .png extension to output path: img_masked_img/1010_right/1010_right_enface.png\n",
      "Saved result to: img_masked_img/1010_right/1010_right_enface.png\n",
      "img_masked_img/1021_right\n",
      "Found 19 heatmaps in img_masked_img/1021_right\n"
     ]
    },
    {
     "name": "stderr",
     "output_type": "stream",
     "text": [
      "Loading heatmaps: 100%|██████████| 19/19 [00:00<00:00, 112.38it/s]\n"
     ]
    },
    {
     "name": "stdout",
     "output_type": "stream",
     "text": [
      "Loaded 19 heatmap images\n",
      "Added .png extension to output path: img_masked_img/1021_right/1021_right_enface.png\n",
      "Saved result to: img_masked_img/1021_right/1021_right_enface.png\n",
      "img_masked_img/1014_right\n",
      "Found 22 heatmaps in img_masked_img/1014_right\n"
     ]
    },
    {
     "name": "stderr",
     "output_type": "stream",
     "text": [
      "Loading heatmaps: 100%|██████████| 22/22 [00:00<00:00, 113.20it/s]\n"
     ]
    },
    {
     "name": "stdout",
     "output_type": "stream",
     "text": [
      "Loaded 22 heatmap images\n",
      "Added .png extension to output path: img_masked_img/1014_right/1014_right_enface.png\n",
      "Saved result to: img_masked_img/1014_right/1014_right_enface.png\n",
      "img_masked_img/1019_right\n",
      "Found 26 heatmaps in img_masked_img/1019_right\n"
     ]
    },
    {
     "name": "stderr",
     "output_type": "stream",
     "text": [
      "Loading heatmaps: 100%|██████████| 26/26 [00:00<00:00, 109.56it/s]\n"
     ]
    },
    {
     "name": "stdout",
     "output_type": "stream",
     "text": [
      "Loaded 26 heatmap images\n",
      "Added .png extension to output path: img_masked_img/1019_right/1019_right_enface.png\n",
      "Saved result to: img_masked_img/1019_right/1019_right_enface.png\n",
      "img_masked_img/1013_left\n",
      "Found 28 heatmaps in img_masked_img/1013_left\n"
     ]
    },
    {
     "name": "stderr",
     "output_type": "stream",
     "text": [
      "Loading heatmaps: 100%|██████████| 28/28 [00:00<00:00, 106.98it/s]\n"
     ]
    },
    {
     "name": "stdout",
     "output_type": "stream",
     "text": [
      "Loaded 28 heatmap images\n",
      "Added .png extension to output path: img_masked_img/1013_left/1013_left_enface.png\n",
      "Saved result to: img_masked_img/1013_left/1013_left_enface.png\n",
      "img_masked_img/1028_left\n",
      "Found 17 heatmaps in img_masked_img/1028_left\n"
     ]
    },
    {
     "name": "stderr",
     "output_type": "stream",
     "text": [
      "Loading heatmaps: 100%|██████████| 17/17 [00:00<00:00, 71.69it/s]\n"
     ]
    },
    {
     "name": "stdout",
     "output_type": "stream",
     "text": [
      "Loaded 17 heatmap images\n",
      "Added .png extension to output path: img_masked_img/1028_left/1028_left_enface.png\n",
      "Saved result to: img_masked_img/1028_left/1028_left_enface.png\n",
      "img_masked_img/1011_left\n",
      "Found 19 heatmaps in img_masked_img/1011_left\n"
     ]
    },
    {
     "name": "stderr",
     "output_type": "stream",
     "text": [
      "Loading heatmaps: 100%|██████████| 19/19 [00:00<00:00, 92.37it/s]\n"
     ]
    },
    {
     "name": "stdout",
     "output_type": "stream",
     "text": [
      "Loaded 19 heatmap images\n",
      "Added .png extension to output path: img_masked_img/1011_left/1011_left_enface.png\n",
      "Saved result to: img_masked_img/1011_left/1011_left_enface.png\n",
      "img_masked_img/1032_right\n",
      "Found 21 heatmaps in img_masked_img/1032_right\n"
     ]
    },
    {
     "name": "stderr",
     "output_type": "stream",
     "text": [
      "Loading heatmaps: 100%|██████████| 21/21 [00:00<00:00, 86.85it/s]\n"
     ]
    },
    {
     "name": "stdout",
     "output_type": "stream",
     "text": [
      "Loaded 21 heatmap images\n",
      "Added .png extension to output path: img_masked_img/1032_right/1032_right_enface.png\n",
      "Saved result to: img_masked_img/1032_right/1032_right_enface.png\n",
      "img_masked_img/1005_right\n",
      "Found 23 heatmaps in img_masked_img/1005_right\n"
     ]
    },
    {
     "name": "stderr",
     "output_type": "stream",
     "text": [
      "Loading heatmaps: 100%|██████████| 23/23 [00:00<00:00, 106.51it/s]\n"
     ]
    },
    {
     "name": "stdout",
     "output_type": "stream",
     "text": [
      "Loaded 23 heatmap images\n",
      "Added .png extension to output path: img_masked_img/1005_right/1005_right_enface.png\n",
      "Saved result to: img_masked_img/1005_right/1005_right_enface.png\n",
      "img_masked_img/1024_right\n",
      "Found 21 heatmaps in img_masked_img/1024_right\n"
     ]
    },
    {
     "name": "stderr",
     "output_type": "stream",
     "text": [
      "Loading heatmaps: 100%|██████████| 21/21 [00:00<00:00, 108.78it/s]\n"
     ]
    },
    {
     "name": "stdout",
     "output_type": "stream",
     "text": [
      "Loaded 21 heatmap images\n",
      "Added .png extension to output path: img_masked_img/1024_right/1024_right_enface.png\n",
      "Saved result to: img_masked_img/1024_right/1024_right_enface.png\n",
      "img_masked_img/1008_left\n",
      "Found 25 heatmaps in img_masked_img/1008_left\n"
     ]
    },
    {
     "name": "stderr",
     "output_type": "stream",
     "text": [
      "Loading heatmaps: 100%|██████████| 25/25 [00:00<00:00, 110.37it/s]\n"
     ]
    },
    {
     "name": "stdout",
     "output_type": "stream",
     "text": [
      "Loaded 25 heatmap images\n",
      "Added .png extension to output path: img_masked_img/1008_left/1008_left_enface.png\n",
      "Saved result to: img_masked_img/1008_left/1008_left_enface.png\n",
      "img_masked_img/1011_right\n",
      "Found 20 heatmaps in img_masked_img/1011_right\n"
     ]
    },
    {
     "name": "stderr",
     "output_type": "stream",
     "text": [
      "Loading heatmaps: 100%|██████████| 20/20 [00:00<00:00, 109.99it/s]\n"
     ]
    },
    {
     "name": "stdout",
     "output_type": "stream",
     "text": [
      "Loaded 20 heatmap images\n",
      "Added .png extension to output path: img_masked_img/1011_right/1011_right_enface.png\n",
      "Saved result to: img_masked_img/1011_right/1011_right_enface.png\n",
      "img_masked_img/1026_right\n",
      "Found 19 heatmaps in img_masked_img/1026_right\n"
     ]
    },
    {
     "name": "stderr",
     "output_type": "stream",
     "text": [
      "Loading heatmaps: 100%|██████████| 19/19 [00:00<00:00, 110.21it/s]\n"
     ]
    },
    {
     "name": "stdout",
     "output_type": "stream",
     "text": [
      "Loaded 19 heatmap images\n",
      "Added .png extension to output path: img_masked_img/1026_right/1026_right_enface.png\n",
      "Saved result to: img_masked_img/1026_right/1026_right_enface.png\n",
      "img_masked_img/1002_left\n",
      "Found 22 heatmaps in img_masked_img/1002_left\n"
     ]
    },
    {
     "name": "stderr",
     "output_type": "stream",
     "text": [
      "Loading heatmaps: 100%|██████████| 22/22 [00:00<00:00, 111.80it/s]\n"
     ]
    },
    {
     "name": "stdout",
     "output_type": "stream",
     "text": [
      "Loaded 22 heatmap images\n",
      "Added .png extension to output path: img_masked_img/1002_left/1002_left_enface.png\n",
      "Saved result to: img_masked_img/1002_left/1002_left_enface.png\n",
      "img_masked_img/1022_left\n",
      "Found 0 heatmaps in img_masked_img/1022_left\n"
     ]
    },
    {
     "name": "stderr",
     "output_type": "stream",
     "text": [
      "Loading heatmaps: 0it [00:00, ?it/s]\n"
     ]
    },
    {
     "name": "stdout",
     "output_type": "stream",
     "text": [
      "Loaded 0 heatmap images\n",
      "No heatmaps found. Check your directory.\n",
      "img_masked_img/1017_left\n",
      "Found 22 heatmaps in img_masked_img/1017_left\n"
     ]
    },
    {
     "name": "stderr",
     "output_type": "stream",
     "text": [
      "Loading heatmaps: 100%|██████████| 22/22 [00:00<00:00, 110.93it/s]\n"
     ]
    },
    {
     "name": "stdout",
     "output_type": "stream",
     "text": [
      "Loaded 22 heatmap images\n",
      "Added .png extension to output path: img_masked_img/1017_left/1017_left_enface.png\n",
      "Saved result to: img_masked_img/1017_left/1017_left_enface.png\n",
      "img_masked_img/1029_right\n",
      "Found 17 heatmaps in img_masked_img/1029_right\n"
     ]
    },
    {
     "name": "stderr",
     "output_type": "stream",
     "text": [
      "Loading heatmaps: 100%|██████████| 17/17 [00:00<00:00, 108.53it/s]"
     ]
    },
    {
     "name": "stdout",
     "output_type": "stream",
     "text": [
      "Loaded 17 heatmap images\n"
     ]
    },
    {
     "name": "stderr",
     "output_type": "stream",
     "text": [
      "\n"
     ]
    },
    {
     "name": "stdout",
     "output_type": "stream",
     "text": [
      "Added .png extension to output path: img_masked_img/1029_right/1029_right_enface.png\n",
      "Saved result to: img_masked_img/1029_right/1029_right_enface.png\n",
      "img_masked_img/1012_left\n",
      "Found 14 heatmaps in img_masked_img/1012_left\n"
     ]
    },
    {
     "name": "stderr",
     "output_type": "stream",
     "text": [
      "Loading heatmaps: 100%|██████████| 14/14 [00:00<00:00, 110.28it/s]"
     ]
    },
    {
     "name": "stdout",
     "output_type": "stream",
     "text": [
      "Loaded 14 heatmap images\n"
     ]
    },
    {
     "name": "stderr",
     "output_type": "stream",
     "text": [
      "\n"
     ]
    },
    {
     "name": "stdout",
     "output_type": "stream",
     "text": [
      "Added .png extension to output path: img_masked_img/1012_left/1012_left_enface.png\n",
      "Saved result to: img_masked_img/1012_left/1012_left_enface.png\n",
      "img_masked_img/1009_right\n",
      "Found 20 heatmaps in img_masked_img/1009_right\n"
     ]
    },
    {
     "name": "stderr",
     "output_type": "stream",
     "text": [
      "Loading heatmaps: 100%|██████████| 20/20 [00:00<00:00, 109.78it/s]"
     ]
    },
    {
     "name": "stdout",
     "output_type": "stream",
     "text": [
      "Loaded 20 heatmap images\n"
     ]
    },
    {
     "name": "stderr",
     "output_type": "stream",
     "text": [
      "\n"
     ]
    },
    {
     "name": "stdout",
     "output_type": "stream",
     "text": [
      "Added .png extension to output path: img_masked_img/1009_right/1009_right_enface.png\n",
      "Saved result to: img_masked_img/1009_right/1009_right_enface.png\n",
      "img_masked_img/1014_left\n",
      "Found 21 heatmaps in img_masked_img/1014_left\n"
     ]
    },
    {
     "name": "stderr",
     "output_type": "stream",
     "text": [
      "Loading heatmaps: 100%|██████████| 21/21 [00:00<00:00, 108.32it/s]\n"
     ]
    },
    {
     "name": "stdout",
     "output_type": "stream",
     "text": [
      "Loaded 21 heatmap images\n",
      "Added .png extension to output path: img_masked_img/1014_left/1014_left_enface.png\n",
      "Saved result to: img_masked_img/1014_left/1014_left_enface.png\n",
      "img_masked_img/1008_right\n",
      "Found 23 heatmaps in img_masked_img/1008_right\n"
     ]
    },
    {
     "name": "stderr",
     "output_type": "stream",
     "text": [
      "Loading heatmaps: 100%|██████████| 23/23 [00:00<00:00, 111.24it/s]\n"
     ]
    },
    {
     "name": "stdout",
     "output_type": "stream",
     "text": [
      "Loaded 23 heatmap images\n",
      "Added .png extension to output path: img_masked_img/1008_right/1008_right_enface.png\n",
      "Saved result to: img_masked_img/1008_right/1008_right_enface.png\n",
      "img_masked_img/1028_right\n",
      "Found 16 heatmaps in img_masked_img/1028_right\n"
     ]
    },
    {
     "name": "stderr",
     "output_type": "stream",
     "text": [
      "Loading heatmaps: 100%|██████████| 16/16 [00:00<00:00, 102.76it/s]\n"
     ]
    },
    {
     "name": "stdout",
     "output_type": "stream",
     "text": [
      "Loaded 16 heatmap images\n",
      "Added .png extension to output path: img_masked_img/1028_right/1028_right_enface.png\n",
      "Saved result to: img_masked_img/1028_right/1028_right_enface.png\n",
      "img_masked_img/1027_right\n",
      "Found 19 heatmaps in img_masked_img/1027_right\n"
     ]
    },
    {
     "name": "stderr",
     "output_type": "stream",
     "text": [
      "Loading heatmaps: 100%|██████████| 19/19 [00:00<00:00, 108.97it/s]\n"
     ]
    },
    {
     "name": "stdout",
     "output_type": "stream",
     "text": [
      "Loaded 19 heatmap images\n",
      "Added .png extension to output path: img_masked_img/1027_right/1027_right_enface.png\n",
      "Saved result to: img_masked_img/1027_right/1027_right_enface.png\n",
      "img_masked_img/1021_left\n",
      "Found 23 heatmaps in img_masked_img/1021_left\n"
     ]
    },
    {
     "name": "stderr",
     "output_type": "stream",
     "text": [
      "Loading heatmaps: 100%|██████████| 23/23 [00:00<00:00, 110.09it/s]\n"
     ]
    },
    {
     "name": "stdout",
     "output_type": "stream",
     "text": [
      "Loaded 23 heatmap images\n",
      "Added .png extension to output path: img_masked_img/1021_left/1021_left_enface.png\n",
      "Saved result to: img_masked_img/1021_left/1021_left_enface.png\n",
      "img_masked_img/1009_left\n",
      "Found 24 heatmaps in img_masked_img/1009_left\n"
     ]
    },
    {
     "name": "stderr",
     "output_type": "stream",
     "text": [
      "Loading heatmaps: 100%|██████████| 24/24 [00:00<00:00, 108.48it/s]\n"
     ]
    },
    {
     "name": "stdout",
     "output_type": "stream",
     "text": [
      "Loaded 24 heatmap images\n",
      "Added .png extension to output path: img_masked_img/1009_left/1009_left_enface.png\n",
      "Saved result to: img_masked_img/1009_left/1009_left_enface.png\n",
      "img_masked_img/1027_left\n",
      "Found 16 heatmaps in img_masked_img/1027_left\n"
     ]
    },
    {
     "name": "stderr",
     "output_type": "stream",
     "text": [
      "Loading heatmaps: 100%|██████████| 16/16 [00:00<00:00, 111.04it/s]\n"
     ]
    },
    {
     "name": "stdout",
     "output_type": "stream",
     "text": [
      "Loaded 16 heatmap images\n",
      "Added .png extension to output path: img_masked_img/1027_left/1027_left_enface.png\n",
      "Saved result to: img_masked_img/1027_left/1027_left_enface.png\n",
      "img_masked_img/1026_left\n",
      "Found 20 heatmaps in img_masked_img/1026_left\n"
     ]
    },
    {
     "name": "stderr",
     "output_type": "stream",
     "text": [
      "Loading heatmaps: 100%|██████████| 20/20 [00:00<00:00, 102.78it/s]\n"
     ]
    },
    {
     "name": "stdout",
     "output_type": "stream",
     "text": [
      "Loaded 20 heatmap images\n",
      "Added .png extension to output path: img_masked_img/1026_left/1026_left_enface.png\n",
      "Saved result to: img_masked_img/1026_left/1026_left_enface.png\n",
      "img_masked_img/1013_right\n",
      "Found 19 heatmaps in img_masked_img/1013_right\n"
     ]
    },
    {
     "name": "stderr",
     "output_type": "stream",
     "text": [
      "Loading heatmaps: 100%|██████████| 19/19 [00:00<00:00, 109.01it/s]\n"
     ]
    },
    {
     "name": "stdout",
     "output_type": "stream",
     "text": [
      "Loaded 19 heatmap images\n",
      "Added .png extension to output path: img_masked_img/1013_right/1013_right_enface.png\n",
      "Saved result to: img_masked_img/1013_right/1013_right_enface.png\n",
      "img_masked_img/1002_right\n",
      "Found 11 heatmaps in img_masked_img/1002_right\n"
     ]
    },
    {
     "name": "stderr",
     "output_type": "stream",
     "text": [
      "Loading heatmaps: 100%|██████████| 11/11 [00:00<00:00, 108.92it/s]\n"
     ]
    },
    {
     "name": "stdout",
     "output_type": "stream",
     "text": [
      "Loaded 11 heatmap images\n",
      "Added .png extension to output path: img_masked_img/1002_right/1002_right_enface.png\n",
      "Saved result to: img_masked_img/1002_right/1002_right_enface.png\n",
      "img_masked_img/1024_left\n",
      "Found 20 heatmaps in img_masked_img/1024_left\n"
     ]
    },
    {
     "name": "stderr",
     "output_type": "stream",
     "text": [
      "Loading heatmaps: 100%|██████████| 20/20 [00:00<00:00, 102.20it/s]\n"
     ]
    },
    {
     "name": "stdout",
     "output_type": "stream",
     "text": [
      "Loaded 20 heatmap images\n",
      "Added .png extension to output path: img_masked_img/1024_left/1024_left_enface.png\n",
      "Saved result to: img_masked_img/1024_left/1024_left_enface.png\n",
      "img_masked_img/1032_left\n",
      "Found 22 heatmaps in img_masked_img/1032_left\n"
     ]
    },
    {
     "name": "stderr",
     "output_type": "stream",
     "text": [
      "Loading heatmaps: 100%|██████████| 22/22 [00:00<00:00, 101.79it/s]\n"
     ]
    },
    {
     "name": "stdout",
     "output_type": "stream",
     "text": [
      "Loaded 22 heatmap images\n",
      "Added .png extension to output path: img_masked_img/1032_left/1032_left_enface.png\n",
      "Saved result to: img_masked_img/1032_left/1032_left_enface.png\n",
      "img_masked_img/1030_left\n",
      "Found 19 heatmaps in img_masked_img/1030_left\n"
     ]
    },
    {
     "name": "stderr",
     "output_type": "stream",
     "text": [
      "Loading heatmaps: 100%|██████████| 19/19 [00:00<00:00, 107.03it/s]\n"
     ]
    },
    {
     "name": "stdout",
     "output_type": "stream",
     "text": [
      "Loaded 19 heatmap images\n",
      "Added .png extension to output path: img_masked_img/1030_left/1030_left_enface.png\n",
      "Saved result to: img_masked_img/1030_left/1030_left_enface.png\n",
      "img_masked_img/1005_left\n",
      "Found 30 heatmaps in img_masked_img/1005_left\n"
     ]
    },
    {
     "name": "stderr",
     "output_type": "stream",
     "text": [
      "Loading heatmaps: 100%|██████████| 30/30 [00:00<00:00, 96.88it/s]\n"
     ]
    },
    {
     "name": "stdout",
     "output_type": "stream",
     "text": [
      "Loaded 30 heatmap images\n",
      "Added .png extension to output path: img_masked_img/1005_left/1005_left_enface.png\n",
      "Saved result to: img_masked_img/1005_left/1005_left_enface.png\n",
      "img_masked_img/1016_left\n",
      "Found 10 heatmaps in img_masked_img/1016_left\n"
     ]
    },
    {
     "name": "stderr",
     "output_type": "stream",
     "text": [
      "Loading heatmaps: 100%|██████████| 10/10 [00:00<00:00, 104.06it/s]\n"
     ]
    },
    {
     "name": "stdout",
     "output_type": "stream",
     "text": [
      "Loaded 10 heatmap images\n",
      "Added .png extension to output path: img_masked_img/1016_left/1016_left_enface.png\n",
      "Saved result to: img_masked_img/1016_left/1016_left_enface.png\n",
      "img_masked_img/1025_left\n",
      "Found 19 heatmaps in img_masked_img/1025_left\n"
     ]
    },
    {
     "name": "stderr",
     "output_type": "stream",
     "text": [
      "Loading heatmaps: 100%|██████████| 19/19 [00:00<00:00, 103.86it/s]\n"
     ]
    },
    {
     "name": "stdout",
     "output_type": "stream",
     "text": [
      "Loaded 19 heatmap images\n",
      "Added .png extension to output path: img_masked_img/1025_left/1025_left_enface.png\n",
      "Saved result to: img_masked_img/1025_left/1025_left_enface.png\n",
      "img_masked_img/1029_left\n",
      "Found 19 heatmaps in img_masked_img/1029_left\n"
     ]
    },
    {
     "name": "stderr",
     "output_type": "stream",
     "text": [
      "Loading heatmaps: 100%|██████████| 19/19 [00:00<00:00, 100.16it/s]\n"
     ]
    },
    {
     "name": "stdout",
     "output_type": "stream",
     "text": [
      "Loaded 19 heatmap images\n",
      "Added .png extension to output path: img_masked_img/1029_left/1029_left_enface.png\n",
      "Saved result to: img_masked_img/1029_left/1029_left_enface.png\n",
      "img_masked_img/1031_right\n",
      "Found 24 heatmaps in img_masked_img/1031_right\n"
     ]
    },
    {
     "name": "stderr",
     "output_type": "stream",
     "text": [
      "Loading heatmaps: 100%|██████████| 24/24 [00:00<00:00, 104.88it/s]\n"
     ]
    },
    {
     "name": "stdout",
     "output_type": "stream",
     "text": [
      "Loaded 24 heatmap images\n",
      "Added .png extension to output path: img_masked_img/1031_right/1031_right_enface.png\n",
      "Saved result to: img_masked_img/1031_right/1031_right_enface.png\n",
      "img_masked_img/1007_right\n",
      "Found 3 heatmaps in img_masked_img/1007_right\n"
     ]
    },
    {
     "name": "stderr",
     "output_type": "stream",
     "text": [
      "Loading heatmaps: 100%|██████████| 3/3 [00:00<00:00, 106.78it/s]\n"
     ]
    },
    {
     "name": "stdout",
     "output_type": "stream",
     "text": [
      "Loaded 3 heatmap images\n",
      "Added .png extension to output path: img_masked_img/1007_right/1007_right_enface.png\n",
      "Saved result to: img_masked_img/1007_right/1007_right_enface.png\n",
      "img_masked_img/1016_right\n",
      "Found 10 heatmaps in img_masked_img/1016_right\n"
     ]
    },
    {
     "name": "stderr",
     "output_type": "stream",
     "text": [
      "Loading heatmaps: 100%|██████████| 10/10 [00:00<00:00, 107.13it/s]"
     ]
    },
    {
     "name": "stdout",
     "output_type": "stream",
     "text": [
      "Loaded 10 heatmap images\n"
     ]
    },
    {
     "name": "stderr",
     "output_type": "stream",
     "text": [
      "\n"
     ]
    },
    {
     "name": "stdout",
     "output_type": "stream",
     "text": [
      "Added .png extension to output path: img_masked_img/1016_right/1016_right_enface.png\n",
      "Saved result to: img_masked_img/1016_right/1016_right_enface.png\n",
      "img_masked_img/1023_left\n",
      "Found 15 heatmaps in img_masked_img/1023_left\n"
     ]
    },
    {
     "name": "stderr",
     "output_type": "stream",
     "text": [
      "Loading heatmaps: 100%|██████████| 15/15 [00:00<00:00, 110.81it/s]"
     ]
    },
    {
     "name": "stdout",
     "output_type": "stream",
     "text": [
      "Loaded 15 heatmap images\n"
     ]
    },
    {
     "name": "stderr",
     "output_type": "stream",
     "text": [
      "\n"
     ]
    },
    {
     "name": "stdout",
     "output_type": "stream",
     "text": [
      "Added .png extension to output path: img_masked_img/1023_left/1023_left_enface.png\n",
      "Saved result to: img_masked_img/1023_left/1023_left_enface.png\n",
      "img_masked_img/1023_right\n",
      "Found 16 heatmaps in img_masked_img/1023_right\n"
     ]
    },
    {
     "name": "stderr",
     "output_type": "stream",
     "text": [
      "Loading heatmaps: 100%|██████████| 16/16 [00:00<00:00, 109.13it/s]"
     ]
    },
    {
     "name": "stdout",
     "output_type": "stream",
     "text": [
      "Loaded 16 heatmap images\n"
     ]
    },
    {
     "name": "stderr",
     "output_type": "stream",
     "text": [
      "\n"
     ]
    },
    {
     "name": "stdout",
     "output_type": "stream",
     "text": [
      "Added .png extension to output path: img_masked_img/1023_right/1023_right_enface.png\n",
      "Saved result to: img_masked_img/1023_right/1023_right_enface.png\n",
      "img_masked_img/1015_left\n",
      "Found 18 heatmaps in img_masked_img/1015_left\n"
     ]
    },
    {
     "name": "stderr",
     "output_type": "stream",
     "text": [
      "Loading heatmaps: 100%|██████████| 18/18 [00:00<00:00, 106.65it/s]"
     ]
    },
    {
     "name": "stdout",
     "output_type": "stream",
     "text": [
      "Loaded 18 heatmap images\n"
     ]
    },
    {
     "name": "stderr",
     "output_type": "stream",
     "text": [
      "\n"
     ]
    },
    {
     "name": "stdout",
     "output_type": "stream",
     "text": [
      "Added .png extension to output path: img_masked_img/1015_left/1015_left_enface.png\n",
      "Saved result to: img_masked_img/1015_left/1015_left_enface.png\n",
      "img_masked_img/1006_left\n",
      "Found 20 heatmaps in img_masked_img/1006_left\n"
     ]
    },
    {
     "name": "stderr",
     "output_type": "stream",
     "text": [
      "Loading heatmaps: 100%|██████████| 20/20 [00:00<00:00, 103.37it/s]\n"
     ]
    },
    {
     "name": "stdout",
     "output_type": "stream",
     "text": [
      "Loaded 20 heatmap images\n",
      "Added .png extension to output path: img_masked_img/1006_left/1006_left_enface.png\n",
      "Saved result to: img_masked_img/1006_left/1006_left_enface.png\n",
      "img_masked_img/1022_right\n",
      "Found 22 heatmaps in img_masked_img/1022_right\n"
     ]
    },
    {
     "name": "stderr",
     "output_type": "stream",
     "text": [
      "Loading heatmaps: 100%|██████████| 22/22 [00:00<00:00, 108.36it/s]\n"
     ]
    },
    {
     "name": "stdout",
     "output_type": "stream",
     "text": [
      "Loaded 22 heatmap images\n",
      "Added .png extension to output path: img_masked_img/1022_right/1022_right_enface.png\n",
      "Saved result to: img_masked_img/1022_right/1022_right_enface.png\n",
      "img_masked_img/1020_left\n",
      "Found 20 heatmaps in img_masked_img/1020_left\n"
     ]
    },
    {
     "name": "stderr",
     "output_type": "stream",
     "text": [
      "Loading heatmaps: 100%|██████████| 20/20 [00:00<00:00, 106.09it/s]\n"
     ]
    },
    {
     "name": "stdout",
     "output_type": "stream",
     "text": [
      "Loaded 20 heatmap images\n",
      "Added .png extension to output path: img_masked_img/1020_left/1020_left_enface.png\n",
      "Saved result to: img_masked_img/1020_left/1020_left_enface.png\n",
      "img_masked_img/1012_right\n",
      "Found 12 heatmaps in img_masked_img/1012_right\n"
     ]
    },
    {
     "name": "stderr",
     "output_type": "stream",
     "text": [
      "Loading heatmaps: 100%|██████████| 12/12 [00:00<00:00, 109.78it/s]\n"
     ]
    },
    {
     "name": "stdout",
     "output_type": "stream",
     "text": [
      "Loaded 12 heatmap images\n",
      "Added .png extension to output path: img_masked_img/1012_right/1012_right_enface.png\n",
      "Saved result to: img_masked_img/1012_right/1012_right_enface.png\n",
      "img_masked_img/1017_right\n",
      "Found 21 heatmaps in img_masked_img/1017_right\n"
     ]
    },
    {
     "name": "stderr",
     "output_type": "stream",
     "text": [
      "Loading heatmaps: 100%|██████████| 21/21 [00:00<00:00, 103.93it/s]\n"
     ]
    },
    {
     "name": "stdout",
     "output_type": "stream",
     "text": [
      "Loaded 21 heatmap images\n",
      "Added .png extension to output path: img_masked_img/1017_right/1017_right_enface.png\n",
      "Saved result to: img_masked_img/1017_right/1017_right_enface.png\n",
      "img_masked_img/1020_right\n",
      "Found 21 heatmaps in img_masked_img/1020_right\n"
     ]
    },
    {
     "name": "stderr",
     "output_type": "stream",
     "text": [
      "Loading heatmaps: 100%|██████████| 21/21 [00:00<00:00, 100.25it/s]\n"
     ]
    },
    {
     "name": "stdout",
     "output_type": "stream",
     "text": [
      "Loaded 21 heatmap images\n",
      "Added .png extension to output path: img_masked_img/1020_right/1020_right_enface.png\n",
      "Saved result to: img_masked_img/1020_right/1020_right_enface.png\n",
      "img_masked_img/1030_right\n",
      "Found 19 heatmaps in img_masked_img/1030_right\n"
     ]
    },
    {
     "name": "stderr",
     "output_type": "stream",
     "text": [
      "Loading heatmaps: 100%|██████████| 19/19 [00:00<00:00, 109.42it/s]\n"
     ]
    },
    {
     "name": "stdout",
     "output_type": "stream",
     "text": [
      "Loaded 19 heatmap images\n",
      "Added .png extension to output path: img_masked_img/1030_right/1030_right_enface.png\n",
      "Saved result to: img_masked_img/1030_right/1030_right_enface.png\n",
      "img_masked_img/1003_left\n",
      "Found 18 heatmaps in img_masked_img/1003_left\n"
     ]
    },
    {
     "name": "stderr",
     "output_type": "stream",
     "text": [
      "Loading heatmaps: 100%|██████████| 18/18 [00:00<00:00, 108.78it/s]\n"
     ]
    },
    {
     "name": "stdout",
     "output_type": "stream",
     "text": [
      "Loaded 18 heatmap images\n",
      "Added .png extension to output path: img_masked_img/1003_left/1003_left_enface.png\n",
      "Saved result to: img_masked_img/1003_left/1003_left_enface.png\n",
      "img_masked_img/1006_right\n",
      "Found 20 heatmaps in img_masked_img/1006_right\n"
     ]
    },
    {
     "name": "stderr",
     "output_type": "stream",
     "text": [
      "Loading heatmaps: 100%|██████████| 20/20 [00:00<00:00, 108.37it/s]\n"
     ]
    },
    {
     "name": "stdout",
     "output_type": "stream",
     "text": [
      "Loaded 20 heatmap images\n",
      "Added .png extension to output path: img_masked_img/1006_right/1006_right_enface.png\n",
      "Saved result to: img_masked_img/1006_right/1006_right_enface.png\n",
      "img_masked_img/1004_left\n",
      "Found 12 heatmaps in img_masked_img/1004_left\n"
     ]
    },
    {
     "name": "stderr",
     "output_type": "stream",
     "text": [
      "Loading heatmaps: 100%|██████████| 12/12 [00:00<00:00, 94.48it/s]\n"
     ]
    },
    {
     "name": "stdout",
     "output_type": "stream",
     "text": [
      "Loaded 12 heatmap images\n",
      "Added .png extension to output path: img_masked_img/1004_left/1004_left_enface.png\n",
      "Saved result to: img_masked_img/1004_left/1004_left_enface.png\n",
      "img_masked_img/1015_right\n",
      "Found 17 heatmaps in img_masked_img/1015_right\n"
     ]
    },
    {
     "name": "stderr",
     "output_type": "stream",
     "text": [
      "Loading heatmaps: 100%|██████████| 17/17 [00:00<00:00, 107.12it/s]\n"
     ]
    },
    {
     "name": "stdout",
     "output_type": "stream",
     "text": [
      "Loaded 17 heatmap images\n",
      "Added .png extension to output path: img_masked_img/1015_right/1015_right_enface.png\n",
      "Saved result to: img_masked_img/1015_right/1015_right_enface.png\n"
     ]
    }
   ],
   "execution_count": 56
  },
  {
   "cell_type": "code",
   "id": "e6c1df7e-8728-405f-8cba-2b59451d50de",
   "metadata": {
    "ExecuteTime": {
     "end_time": "2025-04-18T18:23:58.702727Z",
     "start_time": "2025-04-18T18:23:58.700850Z"
    }
   },
   "source": [],
   "outputs": [],
   "execution_count": null
  }
 ],
 "metadata": {
  "kernelspec": {
   "display_name": "Python 3 (ipykernel)",
   "language": "python",
   "name": "python3"
  },
  "language_info": {
   "codemirror_mode": {
    "name": "ipython",
    "version": 3
   },
   "file_extension": ".py",
   "mimetype": "text/x-python",
   "name": "python",
   "nbconvert_exporter": "python",
   "pygments_lexer": "ipython3",
   "version": "3.9.19"
  }
 },
 "nbformat": 4,
 "nbformat_minor": 5
}
